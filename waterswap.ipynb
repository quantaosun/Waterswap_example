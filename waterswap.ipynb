{
 "cells": [
  {
   "cell_type": "markdown",
   "metadata": {
    "colab_type": "text",
    "id": "view-in-github"
   },
   "source": [
    "<a href=\"https://colab.research.google.com/github/quantaosun/waterswap/blob/main/waterswap.ipynb\" target=\"_parent\"><img src=\"https://colab.research.google.com/assets/colab-badge.svg\" alt=\"Open In Colab\"/></a>"
   ]
  },
  {
   "cell_type": "markdown",
   "metadata": {
    "cellView": "form",
    "colab": {
     "base_uri": "https://localhost:8080/"
    },
    "id": "uyfFc8VufUyl",
    "outputId": "105fb698-fe47-4bb9-afc2-8cda78302e36"
   },
   "source": [
    "# 药物分子-溶剂水交换结合自由能分子动力学模拟\n",
    "\n",
    "https://github.com/quantaosun  "
   ]
  },
  {
   "cell_type": "markdown",
   "metadata": {},
   "source": [
    "这是一个用来计算一个蛋白质靶点和一个小分子药物之间结合自由能的笔记本，使用的是英国的开源软件Sire的一个模块，名字为Waterswap，如果你希望理解背后的逻辑，你需要仔细阅读下面的两篇文献。\n",
    "\n",
    "你也许没有很好的个人笔记本，就像我一样。但你仍然可以尝试在谷歌上的免费算力平台collab上使用，注意及时保存到你的网盘里。\n",
    "\n",
    "缺点是这个笔记本不支持GPU加速。\n",
    "\n",
    "好消息是，即使你使用个人笔记本或者配置较低的服务器，你可以把你的任务无限次的延续，只要你有耐心，总会完成。而计算任务会自动从上次你结束的地方继续计算，你无需做任何其他设置。\n",
    "\n",
    "如果你有许多CPU比如超过50块，那么你的计算可能会在一到两天内完成。\n",
    "\n",
    "Woods, C. J., Malaisree, M., Hannongbua, S., Mulholland, A.J., “A water-swap reaction coordinate for the calculation of absolute protein-ligand binding free energies”, J. Chem. Phys. 134, 054114, 2011, DOI:10.1063/1.3519057 \n",
    "\n",
    "Woods, C. J., Malaisree, M., Michel, J., Long, B., McIntosh-Smith, S., Mulholland, A. J., “Rapid Decomposition and Visualisation of Protein-Ligand Binding Free Energies by Residue and by Water”, Faraday Discussions 169: Molecular Simulation and Visualisation, 2014, DOI:10.1039/C3FD00125C\n"
   ]
  },
  {
   "cell_type": "markdown",
   "metadata": {},
   "source": [
    "方法点评： 这个方法原理上不如FEP，但是要好于MMPBSA。但FEP对硬件的苛刻要求和繁琐的使用技巧，后者昂贵的价格，往往让人望而却步。\n",
    "\n",
    "这个方法是完全免费的哦，唯一的硬伤也许就是速度慢一些，并且跟MMPBSA一样结果的数值区间是不能落入真实的实验区间的，但两个化合物直接的差值是具有可比性的。"
   ]
  },
  {
   "cell_type": "code",
   "execution_count": null,
   "metadata": {},
   "outputs": [],
   "source": [
    "#@title ❤Install Omnia\n",
    "################################################################################\n",
    "# INSTALL CONDA ON GOOGLE COLAB\n",
    "################################################################################\n",
    "! wget https://repo.anaconda.com/miniconda/Miniconda3-py37_4.8.2-Linux-x86_64.sh \n",
    "! chmod +x Miniconda3-py37_4.8.2-Linux-x86_64.sh\n",
    "! bash ./Miniconda3-py37_4.8.2-Linux-x86_64.sh -b -f -p /usr/local \n",
    "import sys\n",
    "sys.path.append('/usr/local/lib/python3.7/site-packages/')\n",
    "#安装sire\n",
    "!yes | conda install -c conda-forge -c omnia -c michellab sire"
   ]
  },
  {
   "cell_type": "code",
   "execution_count": null,
   "metadata": {
    "cellView": "form",
    "colab": {
     "base_uri": "https://localhost:8080/"
    },
    "id": "cNsiEF12Q94d",
    "outputId": "169607a6-e0cc-4df5-cb14-bd96b9d1475d"
   },
   "outputs": [],
   "source": [
    "#@title ❤ABF waterswap validation\n",
    "!optimise_openmm\n",
    "#现在我们就能直接使用ligandswap 了，我们将使用这个工具进行相对结合自由能的计算\n",
    "!waterswap -h"
   ]
  },
  {
   "cell_type": "code",
   "execution_count": null,
   "metadata": {
    "colab": {
     "base_uri": "https://localhost:8080/"
    },
    "id": "hjSEh4d6I91I",
    "outputId": "ecc54bf1-7275-480f-b59f-3d922269db06"
   },
   "outputs": [],
   "source": [
    "from google.colab import drive\n",
    "drive.mount('/content/drive')"
   ]
  },
  {
   "cell_type": "code",
   "execution_count": null,
   "metadata": {
    "cellView": "form",
    "id": "6NnkLov0xRb3"
   },
   "outputs": [],
   "source": [
    "#@title Copy this every less than 24 hours back to Drive, then copy back and restart!\n",
    "!cp -r /content/output /content/drive/MyDrive/waterswap\n",
    "!cp *s3* /content/drive/MyDrive/waterswap\n",
    "!cp *wsrc* /content/drive/MyDrive/waterswap\n",
    "!cp *swap* /content/drive/MyDrive/waterswap\n",
    "!cp *SYS* /content/drive/MyDrive/waterswap"
   ]
  },
  {
   "cell_type": "code",
   "execution_count": null,
   "metadata": {
    "id": "6G-vG5mTyTpP"
   },
   "outputs": [],
   "source": [
    "#@title Copy back all intermediate restart files back to colab, and change the -n steps, to restart the simulation. This  is COOL!\n",
    "!cp -r /content/drive/MyDrive/waterswap /content\n"
   ]
  },
  {
   "cell_type": "code",
   "execution_count": null,
   "metadata": {
    "colab": {
     "base_uri": "https://localhost:8080/"
    },
    "id": "lLiINNCPg_R1",
    "outputId": "5e88ee7b-8667-472e-f147-852fdaa8bb93"
   },
   "outputs": [],
   "source": [
    "%cd waterswap\n",
    "!waterswap -l LIG  -t SYS_gaff2.prmtop -c SYS_gaff2.crd -n 500"
   ]
  },
  {
   "cell_type": "code",
   "execution_count": null,
   "metadata": {
    "id": "xAjp7RflzwXP"
   },
   "outputs": [],
   "source": [
    "!cp -r /content/waterswap /content/drive/MyDrive"
   ]
  },
  {
   "cell_type": "code",
   "execution_count": null,
   "metadata": {
    "colab": {
     "base_uri": "https://localhost:8080/"
    },
    "id": "no88u62novwF",
    "outputId": "3caaacf3-9fa4-4658-c142-5ec6a119eab5"
   },
   "outputs": [],
   "source": [
    "#Analysi\n",
    "!analyse_freenrg -i output/freenrgs.s3 -o results.txt"
   ]
  }
 ],
 "metadata": {
  "colab": {
   "collapsed_sections": [],
   "include_colab_link": true,
   "name": "waterswap.ipynb",
   "provenance": []
  },
  "kernelspec": {
   "display_name": "Python 3",
   "language": "python",
   "name": "python3"
  },
  "language_info": {
   "codemirror_mode": {
    "name": "ipython",
    "version": 3
   },
   "file_extension": ".py",
   "mimetype": "text/x-python",
   "name": "python",
   "nbconvert_exporter": "python",
   "pygments_lexer": "ipython3",
   "version": "3.8.8"
  }
 },
 "nbformat": 4,
 "nbformat_minor": 1
}
