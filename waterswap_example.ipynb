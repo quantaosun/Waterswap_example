{
  "nbformat": 4,
  "nbformat_minor": 0,
  "metadata": {
    "colab": {
      "name": "waterswap.ipynb",
      "provenance": [],
      "include_colab_link": true
    },
    "kernelspec": {
      "display_name": "Python 3",
      "name": "python3"
    }
  },
  "cells": [
    {
      "cell_type": "markdown",
      "metadata": {
        "id": "view-in-github",
        "colab_type": "text"
      },
      "source": [
        "<a href=\"https://colab.research.google.com/github/quantaosun/Waterswap_example/blob/main/waterswap_example.ipynb\" target=\"_parent\"><img src=\"https://colab.research.google.com/assets/colab-badge.svg\" alt=\"Open In Colab\"/></a>"
      ]
    },
    {
      "cell_type": "markdown",
      "source": [
        "# 药物分子-溶剂水交换结合自由能分子动力学模拟"
      ],
      "metadata": {
        "id": "fstI_Wtc_3lZ"
      }
    },
    {
      "cell_type": "markdown",
      "source": [
        "这是一个用来计算一个蛋白质靶点和一个小分子药物之间结合自由能的笔记本，使用的是英国的开源软件Sire的一个模块，名字为Waterswap，如果你希望理解背后的逻辑，你需要仔细阅读下面的两篇文献。\n",
        "\n",
        "\n",
        "好消息是，即使你使用个人笔记本或者配置较低的服务器，你可以把你的任务无限次的延续，只要你有耐心，总会完成。而计算任务会自动从上次你结束的地方继续计算，你无需做任何其他设置。\n",
        "\n",
        "如果你有许多CPU比如超过50块，那么你的计算可能会在一到两天内完成。\n",
        "\n",
        "Woods, C. J., Malaisree, M., Hannongbua, S., Mulholland, A.J., “A water-swap reaction coordinate for the calculation of absolute protein-ligand binding free energies”, J. Chem. Phys. 134, 054114, 2011, DOI:10.1063/1.3519057 \n",
        "\n",
        "Woods, C. J., Malaisree, M., Michel, J., Long, B., McIntosh-Smith, S., Mulholland, A. J., “Rapid Decomposition and Visualisation of Protein-Ligand Binding Free Energies by Residue and by Water”, Faraday Discussions 169: Molecular Simulation and Visualisation, 2014, DOI:10.1039/C3FD00125C\n",
        "\n"
      ],
      "metadata": {
        "id": "GeEwVmk18CUx"
      }
    },
    {
      "cell_type": "markdown",
      "source": [
        "方法点评： 这个方法根据个人的使用感受（github/quantaosun），原理上不如FEP，但是要好于MMPBSA。但FEP对硬件的苛刻要求和繁琐的使用技巧，后者昂贵的价格，往往让人望而却步。\n",
        "\n",
        "这个方法是完全免费的，唯一的硬伤也许就是速度慢一些，并且跟MMPBSA一样结果的数值区间是不能落入真实的实验区间的，但两个化合物直接的差值是具有可比性的。"
      ],
      "metadata": {
        "id": "V-w9rV0v-nyj"
      }
    },
    {
      "cell_type": "code",
      "metadata": {
        "colab": {
          "base_uri": "https://localhost:8080/"
        },
        "id": "hjSEh4d6I91I",
        "outputId": "ecc54bf1-7275-480f-b59f-3d922269db06"
      },
      "source": [
        "from google.colab import drive\n",
        "drive.mount('/content/drive')"
      ],
      "execution_count": null,
      "outputs": [
        {
          "name": "stdout",
          "output_type": "stream",
          "text": [
            "Mounted at /content/drive\n"
          ]
        }
      ]
    },
    {
      "cell_type": "code",
      "metadata": {
        "id": "uyfFc8VufUyl",
        "cellView": "form"
      },
      "source": [
        "#@title Install Omnia\n",
        "################################################################################\n",
        "# INSTALL CONDA ON GOOGLE COLAB\n",
        "################################################################################\n",
        "! wget https://repo.anaconda.com/miniconda/Miniconda3-py37_4.12.0-Linux-x86_64.sh \n",
        "! chmod +x Miniconda3-py37_4.12.0-Linux-x86_64.sh \n",
        "! bash ./Miniconda3-py37_4.12.0-Linux-x86_64.sh  -b -f -p /usr/local \n",
        "import sys\n",
        "sys.path.append('/usr/local/lib/python3.7/site-packages/')\n",
        "#安装sire\n",
        "!yes | conda install -c conda-forge -c omnia -c michellab sire"
      ],
      "execution_count": null,
      "outputs": []
    },
    {
      "cell_type": "code",
      "metadata": {
        "cellView": "form",
        "id": "cNsiEF12Q94d"
      },
      "source": [
        "#@title ABF waterswap validation\n",
        "!optimise_openmm\n",
        "!waterswap -h"
      ],
      "execution_count": null,
      "outputs": []
    },
    {
      "cell_type": "markdown",
      "source": [
        "## Overwrite the SYS_gaff2.prmtop \n",
        "This is a temperary solution to an error. This error should be automaticcly resolved when the new 2023 version of watermap update in the near future."
      ],
      "metadata": {
        "id": "Gahqchd7wVSk"
      }
    },
    {
      "cell_type": "code",
      "source": [
        "!mv SYS_gaff2.prmtop SYS_gaff2_temp.prmtop"
      ],
      "metadata": {
        "id": "iXJx7vCuwD2M"
      },
      "execution_count": null,
      "outputs": []
    },
    {
      "cell_type": "code",
      "source": [
        "!grep -v %COMMENT SYS_gaff2_temp.prmtop > SYS_gaff2.prmtop"
      ],
      "metadata": {
        "id": "hG6EpirdwLAg"
      },
      "execution_count": null,
      "outputs": []
    },
    {
      "cell_type": "code",
      "source": [
        "! grep -v %COMMENT /content/SYS_gaff2.prmtop > SYS.prmtop"
      ],
      "metadata": {
        "id": "dC_K86W-TnnU"
      },
      "execution_count": 4,
      "outputs": []
    },
    {
      "cell_type": "markdown",
      "source": [
        "即使因为这样那样的原因没有完成，你也完全不必担心，比如任务跑到了250步骤，则下次重复运行时，会在动从251步开始，你也许都察觉不到这背后跟第一次运行时的区别。"
      ],
      "metadata": {
        "id": "RVLK5Yo_9-9Y"
      }
    },
    {
      "cell_type": "code",
      "metadata": {
        "id": "lLiINNCPg_R1"
      },
      "source": [
        "!waterswap -l LIG  -t SYS.prmtop -c SYS_gaff2.crd -n 1000"
      ],
      "execution_count": null,
      "outputs": []
    },
    {
      "cell_type": "markdown",
      "source": [
        "请至少跑到1000步，再运行分析指令。具体的原理请参考以上两篇文献。"
      ],
      "metadata": {
        "id": "lfYwhs3z-cU6"
      }
    },
    {
      "cell_type": "code",
      "metadata": {
        "id": "no88u62novwF"
      },
      "source": [
        "#Analysi\n",
        "!analyse_freenrg -i output/freenrgs.s3 -o results.txt"
      ],
      "execution_count": null,
      "outputs": []
    },
    {
      "cell_type": "markdown",
      "source": [
        "误差评估： 结果会给出三个结果，如果你的模拟比较好，这三个数值应当接近。"
      ],
      "metadata": {
        "id": "AcYUkXKx_0QE"
      }
    }
  ]
}